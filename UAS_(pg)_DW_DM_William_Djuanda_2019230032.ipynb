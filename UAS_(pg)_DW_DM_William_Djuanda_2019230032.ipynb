{
 "cells": [
  {
   "cell_type": "markdown",
   "id": "39e64349",
   "metadata": {
    "id": "39e64349"
   },
   "source": [
    "# <center>UAS (Pagi) : Data Warehouse dan Data Mining</center>\n",
    "\n",
    "- NIM : 2019230032\n",
    "- Nama : William Djuanda"
   ]
  },
  {
   "cell_type": "markdown",
   "id": "93d84728",
   "metadata": {
    "id": "93d84728"
   },
   "source": [
    "---"
   ]
  },
  {
   "cell_type": "markdown",
   "id": "d8297ab7",
   "metadata": {
    "id": "d8297ab7"
   },
   "source": [
    "# <u>Soal :</u>\n",
    "## <font color=red>Berikut Program membangun model regresi (prediksi pembayaran premi asuransi), koreksi dan lengkapi jika ada yang perlu diperbaiki, simpan hasil/model-nya dan gunakan untuk membangun aplikasi web  dengan Streamlit, upload ke server streamlit !</font>"
   ]
  },
  {
   "cell_type": "markdown",
   "id": "4f6b4462",
   "metadata": {
    "id": "4f6b4462"
   },
   "source": [
    "---"
   ]
  },
  {
   "cell_type": "code",
   "execution_count": 26,
   "id": "c89e29e5",
   "metadata": {
    "execution": {
     "iopub.execute_input": "2021-08-16T11:08:34.541163Z",
     "iopub.status.busy": "2021-08-16T11:08:34.540289Z",
     "iopub.status.idle": "2021-08-16T11:08:35.520723Z",
     "shell.execute_reply": "2021-08-16T11:08:35.519833Z",
     "shell.execute_reply.started": "2021-08-16T11:07:29.873925Z"
    },
    "id": "c89e29e5",
    "papermill": {
     "duration": 1.020135,
     "end_time": "2021-08-16T11:08:35.520911",
     "exception": false,
     "start_time": "2021-08-16T11:08:34.500776",
     "status": "completed"
    },
    "tags": []
   },
   "outputs": [],
   "source": [
    "import numpy as np\n",
    "import pandas as pd\n",
    "import seaborn as sns\n",
    "import matplotlib.pyplot as plt"
   ]
  },
  {
   "cell_type": "markdown",
   "id": "9a5ebfd6",
   "metadata": {
    "id": "9a5ebfd6",
    "papermill": {
     "duration": 0.040594,
     "end_time": "2021-08-16T11:08:35.598908",
     "exception": false,
     "start_time": "2021-08-16T11:08:35.558314",
     "status": "completed"
    },
    "tags": []
   },
   "source": [
    "### Loading Dataset"
   ]
  },
  {
   "cell_type": "code",
   "execution_count": 27,
   "id": "25b4c8c2",
   "metadata": {
    "colab": {
     "base_uri": "https://localhost:8080/",
     "height": 206
    },
    "execution": {
     "iopub.execute_input": "2021-08-16T11:08:35.667419Z",
     "iopub.status.busy": "2021-08-16T11:08:35.666329Z",
     "iopub.status.idle": "2021-08-16T11:08:35.678479Z",
     "shell.execute_reply": "2021-08-16T11:08:35.677858Z",
     "shell.execute_reply.started": "2021-08-16T11:07:29.883395Z"
    },
    "id": "25b4c8c2",
    "outputId": "e110134d-4e0d-47d1-94d0-59cf09dfcfe0",
    "papermill": {
     "duration": 0.04406,
     "end_time": "2021-08-16T11:08:35.678628",
     "exception": false,
     "start_time": "2021-08-16T11:08:35.634568",
     "status": "completed"
    },
    "tags": []
   },
   "outputs": [
    {
     "data": {
      "text/html": [
       "<div>\n",
       "<style scoped>\n",
       "    .dataframe tbody tr th:only-of-type {\n",
       "        vertical-align: middle;\n",
       "    }\n",
       "\n",
       "    .dataframe tbody tr th {\n",
       "        vertical-align: top;\n",
       "    }\n",
       "\n",
       "    .dataframe thead th {\n",
       "        text-align: right;\n",
       "    }\n",
       "</style>\n",
       "<table border=\"1\" class=\"dataframe\">\n",
       "  <thead>\n",
       "    <tr style=\"text-align: right;\">\n",
       "      <th></th>\n",
       "      <th>age</th>\n",
       "      <th>sex</th>\n",
       "      <th>bmi</th>\n",
       "      <th>children</th>\n",
       "      <th>smoker</th>\n",
       "      <th>charges</th>\n",
       "    </tr>\n",
       "  </thead>\n",
       "  <tbody>\n",
       "    <tr>\n",
       "      <th>0</th>\n",
       "      <td>19</td>\n",
       "      <td>0</td>\n",
       "      <td>27.900</td>\n",
       "      <td>0</td>\n",
       "      <td>1</td>\n",
       "      <td>16884.92400</td>\n",
       "    </tr>\n",
       "    <tr>\n",
       "      <th>1</th>\n",
       "      <td>18</td>\n",
       "      <td>1</td>\n",
       "      <td>33.770</td>\n",
       "      <td>1</td>\n",
       "      <td>0</td>\n",
       "      <td>1725.55230</td>\n",
       "    </tr>\n",
       "    <tr>\n",
       "      <th>2</th>\n",
       "      <td>28</td>\n",
       "      <td>1</td>\n",
       "      <td>33.000</td>\n",
       "      <td>3</td>\n",
       "      <td>0</td>\n",
       "      <td>4449.46200</td>\n",
       "    </tr>\n",
       "    <tr>\n",
       "      <th>3</th>\n",
       "      <td>33</td>\n",
       "      <td>1</td>\n",
       "      <td>22.705</td>\n",
       "      <td>0</td>\n",
       "      <td>0</td>\n",
       "      <td>21984.47061</td>\n",
       "    </tr>\n",
       "    <tr>\n",
       "      <th>4</th>\n",
       "      <td>32</td>\n",
       "      <td>1</td>\n",
       "      <td>28.880</td>\n",
       "      <td>0</td>\n",
       "      <td>0</td>\n",
       "      <td>3866.85520</td>\n",
       "    </tr>\n",
       "  </tbody>\n",
       "</table>\n",
       "</div>"
      ],
      "text/plain": [
       "   age  sex     bmi  children  smoker      charges\n",
       "0   19    0  27.900         0       1  16884.92400\n",
       "1   18    1  33.770         1       0   1725.55230\n",
       "2   28    1  33.000         3       0   4449.46200\n",
       "3   33    1  22.705         0       0  21984.47061\n",
       "4   32    1  28.880         0       0   3866.85520"
      ]
     },
     "execution_count": 27,
     "metadata": {},
     "output_type": "execute_result"
    }
   ],
   "source": [
    "df = pd.read_csv('insurance1.csv')\n",
    "df.head()"
   ]
  },
  {
   "cell_type": "code",
   "execution_count": 28,
   "id": "c9942d3e",
   "metadata": {
    "colab": {
     "base_uri": "https://localhost:8080/"
    },
    "execution": {
     "iopub.execute_input": "2021-08-16T11:08:35.886022Z",
     "iopub.status.busy": "2021-08-16T11:08:35.884843Z",
     "iopub.status.idle": "2021-08-16T11:08:35.909619Z",
     "shell.execute_reply": "2021-08-16T11:08:35.909076Z",
     "shell.execute_reply.started": "2021-08-16T11:07:29.948573Z"
    },
    "id": "c9942d3e",
    "outputId": "adbf233b-58bc-418d-f9c8-0614321d1747",
    "papermill": {
     "duration": 0.053971,
     "end_time": "2021-08-16T11:08:35.909771",
     "exception": false,
     "start_time": "2021-08-16T11:08:35.855800",
     "status": "completed"
    },
    "tags": []
   },
   "outputs": [
    {
     "name": "stdout",
     "output_type": "stream",
     "text": [
      "<class 'pandas.core.frame.DataFrame'>\n",
      "RangeIndex: 348 entries, 0 to 347\n",
      "Data columns (total 6 columns):\n",
      " #   Column    Non-Null Count  Dtype  \n",
      "---  ------    --------------  -----  \n",
      " 0   age       348 non-null    int64  \n",
      " 1   sex       348 non-null    int64  \n",
      " 2   bmi       348 non-null    float64\n",
      " 3   children  348 non-null    int64  \n",
      " 4   smoker    348 non-null    int64  \n",
      " 5   charges   348 non-null    float64\n",
      "dtypes: float64(2), int64(4)\n",
      "memory usage: 16.4 KB\n"
     ]
    }
   ],
   "source": [
    "df.info()"
   ]
  },
  {
   "cell_type": "code",
   "execution_count": 29,
   "id": "0fbc1610",
   "metadata": {
    "colab": {
     "base_uri": "https://localhost:8080/",
     "height": 300
    },
    "execution": {
     "iopub.execute_input": "2021-08-16T11:08:35.972740Z",
     "iopub.status.busy": "2021-08-16T11:08:35.971681Z",
     "iopub.status.idle": "2021-08-16T11:08:36.001255Z",
     "shell.execute_reply": "2021-08-16T11:08:36.001977Z",
     "shell.execute_reply.started": "2021-08-16T11:07:29.971333Z"
    },
    "id": "0fbc1610",
    "outputId": "8f3784a6-7dae-4013-f5b2-e13f7fbc2122",
    "papermill": {
     "duration": 0.06573,
     "end_time": "2021-08-16T11:08:36.002298",
     "exception": false,
     "start_time": "2021-08-16T11:08:35.936568",
     "status": "completed"
    },
    "tags": []
   },
   "outputs": [
    {
     "data": {
      "text/html": [
       "<div>\n",
       "<style scoped>\n",
       "    .dataframe tbody tr th:only-of-type {\n",
       "        vertical-align: middle;\n",
       "    }\n",
       "\n",
       "    .dataframe tbody tr th {\n",
       "        vertical-align: top;\n",
       "    }\n",
       "\n",
       "    .dataframe thead th {\n",
       "        text-align: right;\n",
       "    }\n",
       "</style>\n",
       "<table border=\"1\" class=\"dataframe\">\n",
       "  <thead>\n",
       "    <tr style=\"text-align: right;\">\n",
       "      <th></th>\n",
       "      <th>age</th>\n",
       "      <th>sex</th>\n",
       "      <th>bmi</th>\n",
       "      <th>children</th>\n",
       "      <th>smoker</th>\n",
       "      <th>charges</th>\n",
       "    </tr>\n",
       "  </thead>\n",
       "  <tbody>\n",
       "    <tr>\n",
       "      <th>count</th>\n",
       "      <td>348.000000</td>\n",
       "      <td>348.000000</td>\n",
       "      <td>348.000000</td>\n",
       "      <td>348.000000</td>\n",
       "      <td>348.000000</td>\n",
       "      <td>348.000000</td>\n",
       "    </tr>\n",
       "    <tr>\n",
       "      <th>mean</th>\n",
       "      <td>39.591954</td>\n",
       "      <td>0.508621</td>\n",
       "      <td>30.676552</td>\n",
       "      <td>1.091954</td>\n",
       "      <td>0.232759</td>\n",
       "      <td>14016.426293</td>\n",
       "    </tr>\n",
       "    <tr>\n",
       "      <th>std</th>\n",
       "      <td>14.417015</td>\n",
       "      <td>0.500646</td>\n",
       "      <td>5.625850</td>\n",
       "      <td>1.192021</td>\n",
       "      <td>0.423198</td>\n",
       "      <td>12638.887852</td>\n",
       "    </tr>\n",
       "    <tr>\n",
       "      <th>min</th>\n",
       "      <td>18.000000</td>\n",
       "      <td>0.000000</td>\n",
       "      <td>15.960000</td>\n",
       "      <td>0.000000</td>\n",
       "      <td>0.000000</td>\n",
       "      <td>1137.011000</td>\n",
       "    </tr>\n",
       "    <tr>\n",
       "      <th>25%</th>\n",
       "      <td>27.000000</td>\n",
       "      <td>0.000000</td>\n",
       "      <td>26.782500</td>\n",
       "      <td>0.000000</td>\n",
       "      <td>0.000000</td>\n",
       "      <td>4888.466125</td>\n",
       "    </tr>\n",
       "    <tr>\n",
       "      <th>50%</th>\n",
       "      <td>40.000000</td>\n",
       "      <td>1.000000</td>\n",
       "      <td>30.300000</td>\n",
       "      <td>1.000000</td>\n",
       "      <td>0.000000</td>\n",
       "      <td>9719.305250</td>\n",
       "    </tr>\n",
       "    <tr>\n",
       "      <th>75%</th>\n",
       "      <td>53.000000</td>\n",
       "      <td>1.000000</td>\n",
       "      <td>34.777500</td>\n",
       "      <td>2.000000</td>\n",
       "      <td>0.000000</td>\n",
       "      <td>19006.316150</td>\n",
       "    </tr>\n",
       "    <tr>\n",
       "      <th>max</th>\n",
       "      <td>64.000000</td>\n",
       "      <td>1.000000</td>\n",
       "      <td>49.060000</td>\n",
       "      <td>5.000000</td>\n",
       "      <td>1.000000</td>\n",
       "      <td>51194.559140</td>\n",
       "    </tr>\n",
       "  </tbody>\n",
       "</table>\n",
       "</div>"
      ],
      "text/plain": [
       "              age         sex         bmi    children      smoker  \\\n",
       "count  348.000000  348.000000  348.000000  348.000000  348.000000   \n",
       "mean    39.591954    0.508621   30.676552    1.091954    0.232759   \n",
       "std     14.417015    0.500646    5.625850    1.192021    0.423198   \n",
       "min     18.000000    0.000000   15.960000    0.000000    0.000000   \n",
       "25%     27.000000    0.000000   26.782500    0.000000    0.000000   \n",
       "50%     40.000000    1.000000   30.300000    1.000000    0.000000   \n",
       "75%     53.000000    1.000000   34.777500    2.000000    0.000000   \n",
       "max     64.000000    1.000000   49.060000    5.000000    1.000000   \n",
       "\n",
       "            charges  \n",
       "count    348.000000  \n",
       "mean   14016.426293  \n",
       "std    12638.887852  \n",
       "min     1137.011000  \n",
       "25%     4888.466125  \n",
       "50%     9719.305250  \n",
       "75%    19006.316150  \n",
       "max    51194.559140  "
      ]
     },
     "execution_count": 29,
     "metadata": {},
     "output_type": "execute_result"
    }
   ],
   "source": [
    "df.describe()"
   ]
  },
  {
   "cell_type": "code",
   "execution_count": 30,
   "id": "e236d13c",
   "metadata": {
    "colab": {
     "base_uri": "https://localhost:8080/"
    },
    "execution": {
     "iopub.execute_input": "2021-08-16T11:08:36.070730Z",
     "iopub.status.busy": "2021-08-16T11:08:36.069807Z",
     "iopub.status.idle": "2021-08-16T11:08:36.074239Z",
     "shell.execute_reply": "2021-08-16T11:08:36.074698Z",
     "shell.execute_reply.started": "2021-08-16T11:07:30.010418Z"
    },
    "id": "e236d13c",
    "outputId": "eb5862db-2ea0-475a-9a3d-553cb96d4e55",
    "papermill": {
     "duration": 0.040857,
     "end_time": "2021-08-16T11:08:36.074877",
     "exception": false,
     "start_time": "2021-08-16T11:08:36.034020",
     "status": "completed"
    },
    "tags": []
   },
   "outputs": [
    {
     "data": {
      "text/plain": [
       "age         0\n",
       "sex         0\n",
       "bmi         0\n",
       "children    0\n",
       "smoker      0\n",
       "charges     0\n",
       "dtype: int64"
      ]
     },
     "execution_count": 30,
     "metadata": {},
     "output_type": "execute_result"
    }
   ],
   "source": [
    "df.isna().sum()"
   ]
  },
  {
   "cell_type": "markdown",
   "id": "b7b9f89c",
   "metadata": {
    "id": "b7b9f89c"
   },
   "source": [
    "### Data Preparation - Mengubah data categorical ke numeric\n",
    "Perbaiki jika ada ERROR"
   ]
  },
  {
   "cell_type": "code",
   "execution_count": 31,
   "id": "50e1a0fd",
   "metadata": {
    "execution": {
     "iopub.execute_input": "2021-08-16T11:08:36.191843Z",
     "iopub.status.busy": "2021-08-16T11:08:36.191211Z",
     "iopub.status.idle": "2021-08-16T11:08:36.321684Z",
     "shell.execute_reply": "2021-08-16T11:08:36.320977Z",
     "shell.execute_reply.started": "2021-08-16T11:07:30.021843Z"
    },
    "id": "50e1a0fd",
    "papermill": {
     "duration": 0.165585,
     "end_time": "2021-08-16T11:08:36.321834",
     "exception": false,
     "start_time": "2021-08-16T11:08:36.156249",
     "status": "completed"
    },
    "tags": []
   },
   "outputs": [],
   "source": [
    "from sklearn.preprocessing import OrdinalEncoder\n",
    "oe=OrdinalEncoder()\n",
    "# df[['sex','smoker','region']]=oe.fit_transform(df[['sex','smoker','region']])\n",
    "df[['sex','smoker']]=oe.fit_transform(df[['sex','smoker']])"
   ]
  },
  {
   "cell_type": "code",
   "execution_count": 32,
   "id": "ef3cbaff",
   "metadata": {
    "execution": {
     "iopub.execute_input": "2021-08-16T11:08:36.385381Z",
     "iopub.status.busy": "2021-08-16T11:08:36.384723Z",
     "iopub.status.idle": "2021-08-16T11:08:36.388198Z",
     "shell.execute_reply": "2021-08-16T11:08:36.387614Z",
     "shell.execute_reply.started": "2021-08-16T11:07:30.175071Z"
    },
    "id": "ef3cbaff",
    "papermill": {
     "duration": 0.039618,
     "end_time": "2021-08-16T11:08:36.388340",
     "exception": false,
     "start_time": "2021-08-16T11:08:36.348722",
     "status": "completed"
    },
    "tags": []
   },
   "outputs": [],
   "source": [
    "# df[['sex','smoker','region']]=df[['sex','smoker','region']].astype(int)\n",
    "df[['sex','smoker']]=df[['sex','smoker']].astype(int)"
   ]
  },
  {
   "cell_type": "code",
   "execution_count": 33,
   "id": "9cf2b853",
   "metadata": {
    "colab": {
     "base_uri": "https://localhost:8080/",
     "height": 206
    },
    "execution": {
     "iopub.execute_input": "2021-08-16T11:08:36.457523Z",
     "iopub.status.busy": "2021-08-16T11:08:36.455951Z",
     "iopub.status.idle": "2021-08-16T11:08:36.459749Z",
     "shell.execute_reply": "2021-08-16T11:08:36.460265Z",
     "shell.execute_reply.started": "2021-08-16T11:07:30.184889Z"
    },
    "id": "9cf2b853",
    "outputId": "707b01b9-326a-46cc-a6aa-6030555308e4",
    "papermill": {
     "duration": 0.044342,
     "end_time": "2021-08-16T11:08:36.460463",
     "exception": false,
     "start_time": "2021-08-16T11:08:36.416121",
     "status": "completed"
    },
    "tags": []
   },
   "outputs": [
    {
     "data": {
      "text/html": [
       "<div>\n",
       "<style scoped>\n",
       "    .dataframe tbody tr th:only-of-type {\n",
       "        vertical-align: middle;\n",
       "    }\n",
       "\n",
       "    .dataframe tbody tr th {\n",
       "        vertical-align: top;\n",
       "    }\n",
       "\n",
       "    .dataframe thead th {\n",
       "        text-align: right;\n",
       "    }\n",
       "</style>\n",
       "<table border=\"1\" class=\"dataframe\">\n",
       "  <thead>\n",
       "    <tr style=\"text-align: right;\">\n",
       "      <th></th>\n",
       "      <th>age</th>\n",
       "      <th>sex</th>\n",
       "      <th>bmi</th>\n",
       "      <th>children</th>\n",
       "      <th>smoker</th>\n",
       "      <th>charges</th>\n",
       "    </tr>\n",
       "  </thead>\n",
       "  <tbody>\n",
       "    <tr>\n",
       "      <th>0</th>\n",
       "      <td>19</td>\n",
       "      <td>0</td>\n",
       "      <td>27.900</td>\n",
       "      <td>0</td>\n",
       "      <td>1</td>\n",
       "      <td>16884.92400</td>\n",
       "    </tr>\n",
       "    <tr>\n",
       "      <th>1</th>\n",
       "      <td>18</td>\n",
       "      <td>1</td>\n",
       "      <td>33.770</td>\n",
       "      <td>1</td>\n",
       "      <td>0</td>\n",
       "      <td>1725.55230</td>\n",
       "    </tr>\n",
       "    <tr>\n",
       "      <th>2</th>\n",
       "      <td>28</td>\n",
       "      <td>1</td>\n",
       "      <td>33.000</td>\n",
       "      <td>3</td>\n",
       "      <td>0</td>\n",
       "      <td>4449.46200</td>\n",
       "    </tr>\n",
       "    <tr>\n",
       "      <th>3</th>\n",
       "      <td>33</td>\n",
       "      <td>1</td>\n",
       "      <td>22.705</td>\n",
       "      <td>0</td>\n",
       "      <td>0</td>\n",
       "      <td>21984.47061</td>\n",
       "    </tr>\n",
       "    <tr>\n",
       "      <th>4</th>\n",
       "      <td>32</td>\n",
       "      <td>1</td>\n",
       "      <td>28.880</td>\n",
       "      <td>0</td>\n",
       "      <td>0</td>\n",
       "      <td>3866.85520</td>\n",
       "    </tr>\n",
       "  </tbody>\n",
       "</table>\n",
       "</div>"
      ],
      "text/plain": [
       "   age  sex     bmi  children  smoker      charges\n",
       "0   19    0  27.900         0       1  16884.92400\n",
       "1   18    1  33.770         1       0   1725.55230\n",
       "2   28    1  33.000         3       0   4449.46200\n",
       "3   33    1  22.705         0       0  21984.47061\n",
       "4   32    1  28.880         0       0   3866.85520"
      ]
     },
     "execution_count": 33,
     "metadata": {},
     "output_type": "execute_result"
    }
   ],
   "source": [
    "df.head()"
   ]
  },
  {
   "cell_type": "code",
   "execution_count": 34,
   "id": "ed5a38e6",
   "metadata": {
    "colab": {
     "base_uri": "https://localhost:8080/"
    },
    "execution": {
     "iopub.execute_input": "2021-08-16T11:08:36.523744Z",
     "iopub.status.busy": "2021-08-16T11:08:36.523060Z",
     "iopub.status.idle": "2021-08-16T11:08:36.527345Z",
     "shell.execute_reply": "2021-08-16T11:08:36.526770Z",
     "shell.execute_reply.started": "2021-08-16T11:07:30.205757Z"
    },
    "id": "ed5a38e6",
    "outputId": "e08aa617-0715-4a5f-85db-c9f4236a00df",
    "papermill": {
     "duration": 0.038102,
     "end_time": "2021-08-16T11:08:36.527501",
     "exception": false,
     "start_time": "2021-08-16T11:08:36.489399",
     "status": "completed"
    },
    "tags": []
   },
   "outputs": [
    {
     "data": {
      "text/plain": [
       "Index(['age', 'sex', 'bmi', 'children', 'smoker', 'charges'], dtype='object')"
      ]
     },
     "execution_count": 34,
     "metadata": {},
     "output_type": "execute_result"
    }
   ],
   "source": [
    "df.columns"
   ]
  },
  {
   "cell_type": "markdown",
   "id": "047238b9",
   "metadata": {
    "id": "047238b9",
    "papermill": {
     "duration": 0.043948,
     "end_time": "2021-08-16T11:08:50.888055",
     "exception": false,
     "start_time": "2021-08-16T11:08:50.844107",
     "status": "completed"
    },
    "tags": []
   },
   "source": [
    "### Memisah Feature dan Label"
   ]
  },
  {
   "cell_type": "code",
   "execution_count": 35,
   "id": "a713092d",
   "metadata": {
    "execution": {
     "iopub.execute_input": "2021-08-16T11:08:50.982142Z",
     "iopub.status.busy": "2021-08-16T11:08:50.981434Z",
     "iopub.status.idle": "2021-08-16T11:08:50.984915Z",
     "shell.execute_reply": "2021-08-16T11:08:50.984422Z",
     "shell.execute_reply.started": "2021-08-16T11:07:43.122306Z"
    },
    "id": "a713092d",
    "papermill": {
     "duration": 0.053915,
     "end_time": "2021-08-16T11:08:50.985104",
     "exception": false,
     "start_time": "2021-08-16T11:08:50.931189",
     "status": "completed"
    },
    "tags": []
   },
   "outputs": [],
   "source": [
    "target=df['charges']\n",
    "features=df.drop(columns=['charges'])"
   ]
  },
  {
   "cell_type": "code",
   "execution_count": 36,
   "id": "7cb18038",
   "metadata": {
    "execution": {
     "iopub.execute_input": "2021-08-16T11:08:51.080285Z",
     "iopub.status.busy": "2021-08-16T11:08:51.079553Z",
     "iopub.status.idle": "2021-08-16T11:08:51.086342Z",
     "shell.execute_reply": "2021-08-16T11:08:51.085443Z",
     "shell.execute_reply.started": "2021-08-16T11:07:43.128164Z"
    },
    "id": "7cb18038",
    "papermill": {
     "duration": 0.058302,
     "end_time": "2021-08-16T11:08:51.086514",
     "exception": false,
     "start_time": "2021-08-16T11:08:51.028212",
     "status": "completed"
    },
    "tags": []
   },
   "outputs": [],
   "source": [
    "#Standardization\n",
    "from sklearn.preprocessing import StandardScaler\n",
    "sc=StandardScaler()\n",
    "features=sc.fit_transform(features)"
   ]
  },
  {
   "cell_type": "code",
   "execution_count": 37,
   "id": "7370fef3",
   "metadata": {
    "colab": {
     "base_uri": "https://localhost:8080/",
     "height": 206
    },
    "execution": {
     "iopub.execute_input": "2021-08-16T11:08:51.188536Z",
     "iopub.status.busy": "2021-08-16T11:08:51.187540Z",
     "iopub.status.idle": "2021-08-16T11:08:51.192222Z",
     "shell.execute_reply": "2021-08-16T11:08:51.191557Z",
     "shell.execute_reply.started": "2021-08-16T11:07:43.149451Z"
    },
    "id": "7370fef3",
    "outputId": "3ed32eea-3cd8-412d-c848-8720eaaee121",
    "papermill": {
     "duration": 0.061061,
     "end_time": "2021-08-16T11:08:51.192379",
     "exception": false,
     "start_time": "2021-08-16T11:08:51.131318",
     "status": "completed"
    },
    "tags": []
   },
   "outputs": [
    {
     "data": {
      "text/html": [
       "<div>\n",
       "<style scoped>\n",
       "    .dataframe tbody tr th:only-of-type {\n",
       "        vertical-align: middle;\n",
       "    }\n",
       "\n",
       "    .dataframe tbody tr th {\n",
       "        vertical-align: top;\n",
       "    }\n",
       "\n",
       "    .dataframe thead th {\n",
       "        text-align: right;\n",
       "    }\n",
       "</style>\n",
       "<table border=\"1\" class=\"dataframe\">\n",
       "  <thead>\n",
       "    <tr style=\"text-align: right;\">\n",
       "      <th></th>\n",
       "      <th>0</th>\n",
       "      <th>1</th>\n",
       "      <th>2</th>\n",
       "      <th>3</th>\n",
       "      <th>4</th>\n",
       "    </tr>\n",
       "  </thead>\n",
       "  <tbody>\n",
       "    <tr>\n",
       "      <th>0</th>\n",
       "      <td>-1.430366</td>\n",
       "      <td>-1.017393</td>\n",
       "      <td>-0.494245</td>\n",
       "      <td>-0.917371</td>\n",
       "      <td>1.815571</td>\n",
       "    </tr>\n",
       "    <tr>\n",
       "      <th>1</th>\n",
       "      <td>-1.499828</td>\n",
       "      <td>0.982905</td>\n",
       "      <td>0.550655</td>\n",
       "      <td>-0.077252</td>\n",
       "      <td>-0.550791</td>\n",
       "    </tr>\n",
       "    <tr>\n",
       "      <th>2</th>\n",
       "      <td>-0.805205</td>\n",
       "      <td>0.982905</td>\n",
       "      <td>0.413590</td>\n",
       "      <td>1.602986</td>\n",
       "      <td>-0.550791</td>\n",
       "    </tr>\n",
       "    <tr>\n",
       "      <th>3</th>\n",
       "      <td>-0.457893</td>\n",
       "      <td>0.982905</td>\n",
       "      <td>-1.418991</td>\n",
       "      <td>-0.917371</td>\n",
       "      <td>-0.550791</td>\n",
       "    </tr>\n",
       "    <tr>\n",
       "      <th>4</th>\n",
       "      <td>-0.527355</td>\n",
       "      <td>0.982905</td>\n",
       "      <td>-0.319799</td>\n",
       "      <td>-0.917371</td>\n",
       "      <td>-0.550791</td>\n",
       "    </tr>\n",
       "  </tbody>\n",
       "</table>\n",
       "</div>"
      ],
      "text/plain": [
       "          0         1         2         3         4\n",
       "0 -1.430366 -1.017393 -0.494245 -0.917371  1.815571\n",
       "1 -1.499828  0.982905  0.550655 -0.077252 -0.550791\n",
       "2 -0.805205  0.982905  0.413590  1.602986 -0.550791\n",
       "3 -0.457893  0.982905 -1.418991 -0.917371 -0.550791\n",
       "4 -0.527355  0.982905 -0.319799 -0.917371 -0.550791"
      ]
     },
     "execution_count": 37,
     "metadata": {},
     "output_type": "execute_result"
    }
   ],
   "source": [
    "pd.DataFrame(features[:5])"
   ]
  },
  {
   "cell_type": "markdown",
   "id": "c1d9d7ca",
   "metadata": {
    "id": "c1d9d7ca",
    "papermill": {
     "duration": 0.044206,
     "end_time": "2021-08-16T11:08:51.281618",
     "exception": false,
     "start_time": "2021-08-16T11:08:51.237412",
     "status": "completed"
    },
    "tags": []
   },
   "source": [
    "### Membangun Model"
   ]
  },
  {
   "cell_type": "code",
   "execution_count": 38,
   "id": "b68f65a3",
   "metadata": {
    "execution": {
     "iopub.execute_input": "2021-08-16T11:08:51.375924Z",
     "iopub.status.busy": "2021-08-16T11:08:51.374934Z",
     "iopub.status.idle": "2021-08-16T11:08:51.522644Z",
     "shell.execute_reply": "2021-08-16T11:08:51.521875Z",
     "shell.execute_reply.started": "2021-08-16T11:07:43.167949Z"
    },
    "id": "b68f65a3",
    "papermill": {
     "duration": 0.19556,
     "end_time": "2021-08-16T11:08:51.522815",
     "exception": false,
     "start_time": "2021-08-16T11:08:51.327255",
     "status": "completed"
    },
    "tags": []
   },
   "outputs": [],
   "source": [
    "from sklearn.model_selection import train_test_split\n",
    "from sklearn.linear_model import LinearRegression"
   ]
  },
  {
   "cell_type": "code",
   "execution_count": 39,
   "id": "5e7a7537",
   "metadata": {
    "execution": {
     "iopub.execute_input": "2021-08-16T11:08:51.619906Z",
     "iopub.status.busy": "2021-08-16T11:08:51.618915Z",
     "iopub.status.idle": "2021-08-16T11:08:51.622102Z",
     "shell.execute_reply": "2021-08-16T11:08:51.621524Z",
     "shell.execute_reply.started": "2021-08-16T11:07:43.513250Z"
    },
    "id": "5e7a7537",
    "papermill": {
     "duration": 0.055111,
     "end_time": "2021-08-16T11:08:51.622257",
     "exception": false,
     "start_time": "2021-08-16T11:08:51.567146",
     "status": "completed"
    },
    "tags": []
   },
   "outputs": [],
   "source": [
    "x_train,x_test,y_train,y_test=train_test_split(features,target,shuffle=True,train_size=0.8,random_state=1)"
   ]
  },
  {
   "cell_type": "code",
   "execution_count": 40,
   "id": "0051abed",
   "metadata": {
    "colab": {
     "base_uri": "https://localhost:8080/"
    },
    "execution": {
     "iopub.execute_input": "2021-08-16T11:08:51.715758Z",
     "iopub.status.busy": "2021-08-16T11:08:51.714883Z",
     "iopub.status.idle": "2021-08-16T11:08:51.719198Z",
     "shell.execute_reply": "2021-08-16T11:08:51.719686Z",
     "shell.execute_reply.started": "2021-08-16T11:07:43.523022Z"
    },
    "id": "0051abed",
    "outputId": "65deb2c9-c3f8-419a-e67c-b462183e845c",
    "papermill": {
     "duration": 0.05331,
     "end_time": "2021-08-16T11:08:51.719861",
     "exception": false,
     "start_time": "2021-08-16T11:08:51.666551",
     "status": "completed"
    },
    "tags": []
   },
   "outputs": [
    {
     "data": {
      "text/plain": [
       "278"
      ]
     },
     "execution_count": 40,
     "metadata": {},
     "output_type": "execute_result"
    }
   ],
   "source": [
    "len(x_train)"
   ]
  },
  {
   "cell_type": "code",
   "execution_count": 41,
   "id": "218f4d75",
   "metadata": {
    "colab": {
     "base_uri": "https://localhost:8080/"
    },
    "execution": {
     "iopub.execute_input": "2021-08-16T11:08:51.814466Z",
     "iopub.status.busy": "2021-08-16T11:08:51.813796Z",
     "iopub.status.idle": "2021-08-16T11:08:51.817717Z",
     "shell.execute_reply": "2021-08-16T11:08:51.818208Z",
     "shell.execute_reply.started": "2021-08-16T11:07:43.535928Z"
    },
    "id": "218f4d75",
    "outputId": "32d613ad-340b-44e5-85e5-dca8151007b8",
    "papermill": {
     "duration": 0.054298,
     "end_time": "2021-08-16T11:08:51.818404",
     "exception": false,
     "start_time": "2021-08-16T11:08:51.764106",
     "status": "completed"
    },
    "tags": []
   },
   "outputs": [
    {
     "data": {
      "text/plain": [
       "70"
      ]
     },
     "execution_count": 41,
     "metadata": {},
     "output_type": "execute_result"
    }
   ],
   "source": [
    "len(x_test)"
   ]
  },
  {
   "cell_type": "code",
   "execution_count": 42,
   "id": "71077bb4",
   "metadata": {
    "colab": {
     "base_uri": "https://localhost:8080/"
    },
    "execution": {
     "iopub.execute_input": "2021-08-16T11:08:52.108424Z",
     "iopub.status.busy": "2021-08-16T11:08:52.046443Z",
     "iopub.status.idle": "2021-08-16T11:08:52.115186Z",
     "shell.execute_reply": "2021-08-16T11:08:52.114529Z",
     "shell.execute_reply.started": "2021-08-16T11:07:43.550267Z"
    },
    "id": "71077bb4",
    "outputId": "12e0bc93-ae2d-46f3-f51a-e88407b742b8",
    "papermill": {
     "duration": 0.252246,
     "end_time": "2021-08-16T11:08:52.115367",
     "exception": false,
     "start_time": "2021-08-16T11:08:51.863121",
     "status": "completed"
    },
    "tags": []
   },
   "outputs": [
    {
     "data": {
      "text/plain": [
       "LinearRegression()"
      ]
     },
     "execution_count": 42,
     "metadata": {},
     "output_type": "execute_result"
    }
   ],
   "source": [
    "#Training\n",
    "model_uas=LinearRegression()\n",
    "model_uas.fit(x_train,y_train)"
   ]
  },
  {
   "cell_type": "markdown",
   "id": "b47f6640",
   "metadata": {
    "id": "b47f6640"
   },
   "source": [
    "### Evaluasi"
   ]
  },
  {
   "cell_type": "code",
   "execution_count": 43,
   "id": "0747be95",
   "metadata": {
    "colab": {
     "base_uri": "https://localhost:8080/"
    },
    "execution": {
     "iopub.execute_input": "2021-08-16T11:08:52.210668Z",
     "iopub.status.busy": "2021-08-16T11:08:52.210039Z",
     "iopub.status.idle": "2021-08-16T11:08:52.218839Z",
     "shell.execute_reply": "2021-08-16T11:08:52.218222Z",
     "shell.execute_reply.started": "2021-08-16T11:07:43.744728Z"
    },
    "id": "0747be95",
    "outputId": "1fbf5ddc-cabf-4645-a4e5-1a87fbfd87bc",
    "papermill": {
     "duration": 0.058566,
     "end_time": "2021-08-16T11:08:52.218975",
     "exception": false,
     "start_time": "2021-08-16T11:08:52.160409",
     "status": "completed"
    },
    "tags": []
   },
   "outputs": [
    {
     "name": "stdout",
     "output_type": "stream",
     "text": [
      "r2 score : 0.7949274180222382\n",
      "MSE : 27448376.079466783\n"
     ]
    }
   ],
   "source": [
    "from sklearn.metrics import r2_score,mean_squared_error\n",
    "pred=model_uas.predict(x_test)\n",
    "print('r2 score :',r2_score(y_test,pred))\n",
    "print('MSE :',mean_squared_error(y_test,pred))"
   ]
  },
  {
   "cell_type": "code",
   "execution_count": 44,
   "id": "193dbf46",
   "metadata": {
    "colab": {
     "base_uri": "https://localhost:8080/"
    },
    "execution": {
     "iopub.execute_input": "2021-08-16T11:08:52.315712Z",
     "iopub.status.busy": "2021-08-16T11:08:52.315080Z",
     "iopub.status.idle": "2021-08-16T11:08:52.319889Z",
     "shell.execute_reply": "2021-08-16T11:08:52.320480Z",
     "shell.execute_reply.started": "2021-08-16T11:07:43.755425Z"
    },
    "id": "193dbf46",
    "outputId": "7d8b9871-7b86-4ae9-ca66-437e28627462",
    "papermill": {
     "duration": 0.057086,
     "end_time": "2021-08-16T11:08:52.320710",
     "exception": false,
     "start_time": "2021-08-16T11:08:52.263624",
     "status": "completed"
    },
    "tags": []
   },
   "outputs": [
    {
     "name": "stdout",
     "output_type": "stream",
     "text": [
      "[32357.41109762  5506.53608861  5567.19663848 26292.94660909\n",
      " 34326.34056167]\n",
      "85     21098.55405\n",
      "191     4883.86600\n",
      "107     3877.30425\n",
      "105    17560.37975\n",
      "123    39556.49450\n",
      "Name: charges, dtype: float64\n"
     ]
    }
   ],
   "source": [
    "print(pred[:5])\n",
    "print(y_test[:5])"
   ]
  },
  {
   "cell_type": "markdown",
   "id": "673eb316",
   "metadata": {
    "id": "673eb316"
   },
   "source": [
    "### Menyimpan Model untuk Deployment"
   ]
  },
  {
   "cell_type": "markdown",
   "id": "4458a393",
   "metadata": {
    "id": "4458a393"
   },
   "source": [
    "Install pickle jika belum ada\n",
    "\n",
    "  !pip install pickle-mixin"
   ]
  },
  {
   "cell_type": "code",
   "execution_count": 45,
   "id": "0e43ab5a",
   "metadata": {
    "id": "0e43ab5a"
   },
   "outputs": [],
   "source": [
    "import pickle\n",
    "\n",
    "pickle.dump(model_uas,open('model_uas.pkl','wb'))"
   ]
  },
  {
   "cell_type": "markdown",
   "id": "f9bc5314",
   "metadata": {
    "id": "f9bc5314"
   },
   "source": [
    "Cek file model_uas.pkl, dan gunakan sebagai model saat membangun aplikasi web berbasis streamlit"
   ]
  },
  {
   "cell_type": "markdown",
   "id": "bcaed454",
   "metadata": {
    "id": "bcaed454"
   },
   "source": [
    "---\n",
    "### Clue \n",
    "Untuk membangun model ini ke aplikasi web streamlit :\n",
    "- Model terdiri dari 5 atribut input dan 1 output : \n",
    "\n",
    "  INPUT :\n",
    "  - 'age', umur\n",
    "  - 'sex',  jenis kelamin\n",
    "  - 'bmi',  berat\n",
    "  - 'children',  jumlah anak\n",
    "  - 'smoker',  perokok atau tidak\n",
    "  \n",
    "  OUTPUT\n",
    "  - charges, besar iuran asuransi per bulan\n",
    "  "
   ]
  },
  {
   "cell_type": "code",
   "execution_count": 46,
   "id": "3fb2f2cb",
   "metadata": {
    "id": "3fb2f2cb"
   },
   "outputs": [],
   "source": [
    "#Contoh penggunaan \n",
    "#Yang diinputkan\n",
    "age=27\n",
    "sex=1\n",
    "bmi=30\n",
    "children=5\n",
    "smoker=0\n",
    "\n",
    "#proses input - dijadikan array dan di reshape\n",
    "X=np.array([age,sex, bmi, children, smoker])\n",
    "X=X.reshape(1,-1)\n",
    "\n",
    "#load model tersimpan - pickle\n",
    "loaded_model = pickle.load(open('model_uas.pkl', 'rb'))\n",
    "\n",
    "#prediksi\n",
    "charger_pred=loaded_model.predict(X)"
   ]
  },
  {
   "cell_type": "code",
   "execution_count": 47,
   "id": "3b220210",
   "metadata": {
    "colab": {
     "base_uri": "https://localhost:8080/"
    },
    "id": "3b220210",
    "outputId": "8eac0116-d6a2-4da6-ccc4-fc54112c287a"
   },
   "outputs": [
    {
     "name": "stdout",
     "output_type": "stream",
     "text": [
      "Prediksi Pembayaran premi :  [185728.22113982]\n"
     ]
    }
   ],
   "source": [
    "#hasil setelah disubmit\n",
    "print(\"Prediksi Pembayaran premi : \",charger_pred)"
   ]
  },
  {
   "cell_type": "markdown",
   "id": "86cfe19b",
   "metadata": {
    "id": "86cfe19b"
   },
   "source": [
    "---"
   ]
  }
 ],
 "metadata": {
  "colab": {
   "provenance": []
  },
  "kernelspec": {
   "display_name": "Python 3 (ipykernel)",
   "language": "python",
   "name": "python3"
  },
  "language_info": {
   "codemirror_mode": {
    "name": "ipython",
    "version": 3
   },
   "file_extension": ".py",
   "mimetype": "text/x-python",
   "name": "python",
   "nbconvert_exporter": "python",
   "pygments_lexer": "ipython3",
   "version": "3.9.13"
  },
  "papermill": {
   "default_parameters": {},
   "duration": 27.884539,
   "end_time": "2021-08-16T11:08:53.873893",
   "environment_variables": {},
   "exception": null,
   "input_path": "__notebook__.ipynb",
   "output_path": "__notebook__.ipynb",
   "parameters": {},
   "start_time": "2021-08-16T11:08:25.989354",
   "version": "2.3.3"
  }
 },
 "nbformat": 4,
 "nbformat_minor": 5
}
